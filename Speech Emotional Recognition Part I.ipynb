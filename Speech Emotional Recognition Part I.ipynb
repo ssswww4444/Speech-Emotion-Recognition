{
 "cells": [
  {
   "cell_type": "markdown",
   "metadata": {},
   "source": [
    "# Project: Speech Emotional Recognition"
   ]
  },
  {
   "cell_type": "markdown",
   "metadata": {},
   "source": [
    "## Requirements\n",
    "1. OpenSmile"
   ]
  },
  {
   "cell_type": "markdown",
   "metadata": {},
   "source": [
    "## 1. Preprocessing input data"
   ]
  },
  {
   "cell_type": "markdown",
   "metadata": {},
   "source": [
    "### 1.1. Import modules and define the data_path"
   ]
  },
  {
   "cell_type": "markdown",
   "metadata": {},
   "source": [
    "Import the required modules."
   ]
  },
  {
   "cell_type": "code",
   "execution_count": 1,
   "metadata": {},
   "outputs": [],
   "source": [
    "import os\n",
    "import shutil\n",
    "from sklearn.model_selection import train_test_split\n",
    "import csv\n",
    "import numpy as np\n",
    "import matplotlib.pyplot as plt\n",
    "import math"
   ]
  },
  {
   "cell_type": "markdown",
   "metadata": {},
   "source": [
    "Assuming all required files are within the \"data\" directory"
   ]
  },
  {
   "cell_type": "code",
   "execution_count": 2,
   "metadata": {},
   "outputs": [],
   "source": [
    "data_path = \"/work/peiyun/data\""
   ]
  },
  {
   "cell_type": "markdown",
   "metadata": {},
   "source": [
    "### 1.2. Getting the info_dict of utterance containing its \"label\" and \"values\" of the 3 emotion dimensions\n",
    "3 emotion dimensions: Valence (positive vs. negative), Activation (calm vs. excited), Dominance (passive vs. aggressive)"
   ]
  },
  {
   "cell_type": "code",
   "execution_count": 53,
   "metadata": {},
   "outputs": [],
   "source": [
    "info_dict = {}    # name: [session, label, dims]: <int, string, float list>\n",
    "category_count = {}  # storing selected emotions only\n",
    "\n",
    "# for each session\n",
    "for session in range(1,6):\n",
    "    path = os.path.join(data_path, \"IEMOCAP\", \"Session\" + str(session), \"dialog\", \"EmoEvaluation\")\n",
    "    \n",
    "    # for file in the session\n",
    "    for filename in os.listdir(path):\n",
    "        \n",
    "        # only interested in \"summary\" txt files\n",
    "        if filename.endswith(\".txt\"):\n",
    "            f = open(os.path.join(path, filename), \"r\")\n",
    "            for line in f.readlines():\n",
    "                if line[0] == \"[\":\n",
    "                    name, label, dims = line.strip(\"\\n\").split(\"\\t\")[1:]\n",
    "                    # convert string to a float list\n",
    "                    dims = dims[1:-1].split(\",\")\n",
    "                    dims = [float(i) for i in dims]\n",
    "                    # add to info dict\n",
    "                    info_dict[name] = [session, label, dims]\n",
    "                    # increment count\n",
    "                    category_count[label] = category_count.get(label, 0) + 1\n",
    "            f.close()"
   ]
  },
  {
   "cell_type": "markdown",
   "metadata": {},
   "source": [
    "### 1.3. Selecting emotions for the experiment"
   ]
  },
  {
   "cell_type": "markdown",
   "metadata": {},
   "source": [
    "Remove invalid labels: \"xxx\""
   ]
  },
  {
   "cell_type": "code",
   "execution_count": 54,
   "metadata": {},
   "outputs": [],
   "source": [
    "if \"xxx\" in category_count:\n",
    "    category_count.pop(\"xxx\")"
   ]
  },
  {
   "cell_type": "markdown",
   "metadata": {},
   "source": [
    "Compare the average dimension values of each emotion category"
   ]
  },
  {
   "cell_type": "code",
   "execution_count": 56,
   "metadata": {},
   "outputs": [],
   "source": [
    "avg_dims_dict = {}\n",
    "\n",
    "for session, label, dims in info_dict.values():\n",
    "    \n",
    "    if label not in category_count:  # ignore removed emotions\n",
    "        continue\n",
    "    \n",
    "    # initialise value\n",
    "    if label not in avg_dims_dict:\n",
    "        avg_dims_dict[label] = [0.0, 0.0, 0.0]\n",
    "        \n",
    "    # 3 dimensions\n",
    "    for i in range(3):\n",
    "        avg_dims_dict[label][i] += dims[i]\n",
    "        \n",
    "for (label, val_ls) in avg_dims_dict.items():\n",
    "    avg_dims_dict[label] = np.divide(val_ls, category_count[label])"
   ]
  },
  {
   "cell_type": "code",
   "execution_count": 57,
   "metadata": {
    "scrolled": true
   },
   "outputs": [
    {
     "data": {
      "text/plain": [
       "{'ang': array([1.90571242, 3.63553917, 3.94983354]),\n",
       " 'dis': array([2.75, 2.  , 1.75]),\n",
       " 'exc': array([3.94508501, 3.57837012, 3.40257771]),\n",
       " 'fea': array([2.504165 , 3.241665 , 2.3666675]),\n",
       " 'fru': array([2.26239367, 3.18487409, 3.32170568]),\n",
       " 'hap': array([3.95126017, 3.11848773, 2.92380908]),\n",
       " 'neu': array([2.9713606 , 2.72575193, 2.83055263]),\n",
       " 'oth': array([3.2778    , 2.61113333, 2.16666667]),\n",
       " 'sad': array([2.25307463, 2.56349935, 2.82795175]),\n",
       " 'sur': array([2.84501495, 3.21728972, 2.85436168])}"
      ]
     },
     "execution_count": 57,
     "metadata": {},
     "output_type": "execute_result"
    }
   ],
   "source": [
    "avg_dims_dict"
   ]
  },
  {
   "cell_type": "markdown",
   "metadata": {},
   "source": [
    "Function for calculating Euclidean (L2) distance between two dimension lists."
   ]
  },
  {
   "cell_type": "code",
   "execution_count": 58,
   "metadata": {},
   "outputs": [],
   "source": [
    "def cal_dist(dim_ls1, dim_ls2):\n",
    "    dist = 0\n",
    "    # 3 dimensions\n",
    "    for i in range(3):\n",
    "        dist += pow(dim_ls1[i] - dim_ls2[i],2)  # squaring\n",
    "    dist = math.sqrt(dist)\n",
    "    return dist"
   ]
  },
  {
   "cell_type": "code",
   "execution_count": 59,
   "metadata": {},
   "outputs": [],
   "source": [
    "np.set_printoptions(linewidth = np.inf)  # for printing distance matrix"
   ]
  },
  {
   "cell_type": "code",
   "execution_count": 60,
   "metadata": {},
   "outputs": [
    {
     "name": "stdout",
     "output_type": "stream",
     "text": [
      "['oth', 'ang', 'exc', 'fea', 'sad', 'sur', 'fru', 'hap', 'neu', 'dis']\n",
      "[[0.         0.86190377 0.59456076 0.35487401 0.42551637 0.35342757 0.57227358 0.39509107 0.25803767 0.31679616]\n",
      " [0.86190377 0.         0.73643115 0.60584133 0.55438677 0.52380539 0.29682865 0.81795534 0.62523396 1.        ]\n",
      " [0.59456076 0.73643115 0.         0.62974949 0.71645789 0.44662321 0.60314009 0.23145845 0.49333603 0.89909202]\n",
      " [0.35487401 0.60584133 0.62974949 0.         0.29904659 0.20761459 0.34403835 0.54231887 0.29161551 0.49088284]\n",
      " [0.42551637 0.55438677 0.71645789 0.29904659 0.         0.30762075 0.27672142 0.62376702 0.25673433 0.4580931 ]\n",
      " [0.35342757 0.52380539 0.44662321 0.20761459 0.30762075 0.         0.26064395 0.38797276 0.17713502 0.57398012]\n",
      " [0.57227358 0.29682865 0.60314009 0.34403835 0.27672142 0.26064395 0.         0.60536985 0.34064439 0.70696981]\n",
      " [0.39509107 0.81795534 0.23145845 0.54231887 0.62376702 0.38797276 0.60536985 0.         0.36948296 0.70351616]\n",
      " [0.25803767 0.62523396 0.49333603 0.29161551 0.25673433 0.17713502 0.34064439 0.36948296 0.         0.460325  ]\n",
      " [0.31679616 1.         0.89909202 0.49088284 0.4580931  0.57398012 0.70696981 0.70351616 0.460325   0.        ]]\n"
     ]
    }
   ],
   "source": [
    "# list of emotions\n",
    "emo_ls = avg_dims_dict.keys()\n",
    "num_emo = len(emo_ls)\n",
    "\n",
    "# initialise distance matrix\n",
    "dist_matrix = np.zeros((num_emo,num_emo))\n",
    "\n",
    "for i in range(num_emo):\n",
    "    for j in range(num_emo):\n",
    "        if i == j:  # on diagonal\n",
    "            dist_matrix[i][j] = 0.0\n",
    "        else:       # off diagonal\n",
    "            emo1 = emo_ls[i]\n",
    "            emo2 = emo_ls[j]\n",
    "            dist_matrix[i][j] = cal_dist(avg_dims_dict[emo1], avg_dims_dict[emo2])\n",
    "\n",
    "print emo_ls\n",
    "print dist_matrix / np.amax(dist_matrix)   # print normalised distance matrix"
   ]
  },
  {
   "cell_type": "code",
   "execution_count": 61,
   "metadata": {},
   "outputs": [],
   "source": [
    "np.set_printoptions(linewidth = 75)  # back to default value"
   ]
  },
  {
   "cell_type": "markdown",
   "metadata": {},
   "source": [
    "Only use emotions with at least 100 instances"
   ]
  },
  {
   "cell_type": "code",
   "execution_count": 62,
   "metadata": {},
   "outputs": [],
   "source": [
    "# only use emotions with at least 100 instances\n",
    "for emo in category_count.keys():\n",
    "    if category_count[emo] < 100:\n",
    "        category_count.pop(emo)"
   ]
  },
  {
   "cell_type": "markdown",
   "metadata": {},
   "source": [
    "Plot the distribution of each category of emotion (7 categories)"
   ]
  },
  {
   "cell_type": "code",
   "execution_count": 63,
   "metadata": {},
   "outputs": [
    {
     "data": {
      "text/plain": [
       "{'ang': 1103,\n",
       " 'exc': 1041,\n",
       " 'fru': 1849,\n",
       " 'hap': 595,\n",
       " 'neu': 1708,\n",
       " 'sad': 1084,\n",
       " 'sur': 107}"
      ]
     },
     "execution_count": 63,
     "metadata": {},
     "output_type": "execute_result"
    }
   ],
   "source": [
    "category_count  # 7487 instances"
   ]
  },
  {
   "cell_type": "code",
   "execution_count": 64,
   "metadata": {},
   "outputs": [
    {
     "data": {
      "image/png": "[encoded data removed]",
      "text/plain": [
       "<Figure size 432x288 with 1 Axes>"
      ]
     },
     "metadata": {},
     "output_type": "display_data"
    }
   ],
   "source": [
    "# Data to plot\n",
    "labels = []\n",
    "sizes = []\n",
    "\n",
    "for (label, count) in category_count.items():\n",
    "    labels.append(label)\n",
    "    sizes.append(count)\n",
    "    \n",
    "# Plot\n",
    "plt.pie(sizes, labels=labels, autopct='%1.2f%%', \n",
    "        shadow=True, startangle=140)\n",
    " \n",
    "plt.axis('equal')\n",
    "plt.show()"
   ]
  },
  {
   "cell_type": "markdown",
   "metadata": {},
   "source": [
    "### 1.3. Split 7487 files into training and test sets (70% training, 15% test, 15% dev, seed = 100)\n",
    "(seed = 100 for reproducibility)"
   ]
  },
  {
   "cell_type": "code",
   "execution_count": null,
   "metadata": {},
   "outputs": [],
   "source": [
    "# get filename list and the corresponding label list\n",
    "filename_ls = []\n",
    "label_ls = []\n",
    "\n",
    "for filename in sorted(info_dict.keys()):   # sorted filenames\n",
    "    session, label, dims = info_dict[filename]\n",
    "    if label in category_count.keys():  # select files with interested emotions only\n",
    "        filename_ls.append(filename)\n",
    "        label_ls.append(label)\n",
    "        \n",
    "# splitting into train and test\n",
    "filename_train, filename_remain, label_train, label_remain = train_test_split(filename_ls, label_ls, \n",
    "                                                                              train_size = 0.7, random_state = 100,\n",
    "                                                                              shuffle = True)\n",
    "\n",
    "# splitting into train and test\n",
    "filename_dev, filename_test, label_dev, label_test = train_test_split(filename_remain, label_remain, \n",
    "                                                                      test_size = 0.5, random_state = 100,\n",
    "                                                                      shuffle = True)"
   ]
  },
  {
   "cell_type": "markdown",
   "metadata": {},
   "source": [
    "### 1.4. Move files into test, dev, and train directories"
   ]
  },
  {
   "cell_type": "markdown",
   "metadata": {},
   "source": [
    "Copying all input files to input_path. (7487 utterances in total)"
   ]
  },
  {
   "cell_type": "code",
   "execution_count": null,
   "metadata": {},
   "outputs": [],
   "source": [
    "input_path = os.path.join(data_path, \"input\")  # /work/peiyun/data/input"
   ]
  },
  {
   "cell_type": "markdown",
   "metadata": {},
   "source": [
    "Create input directory (data_path/input) if not exist."
   ]
  },
  {
   "cell_type": "code",
   "execution_count": null,
   "metadata": {},
   "outputs": [],
   "source": [
    "if not os.path.exists(input_path):\n",
    "    os.makedirs(input_path)"
   ]
  },
  {
   "cell_type": "markdown",
   "metadata": {},
   "source": [
    "Move all required files to input path."
   ]
  },
  {
   "cell_type": "code",
   "execution_count": null,
   "metadata": {},
   "outputs": [],
   "source": [
    "# for each session\n",
    "for session in range(1,6):\n",
    "    path = os.path.join(data_path, \"IEMOCAP\", \"Session\" + str(session), \"sentences\", \"wav\")\n",
    "    \n",
    "    # for each dialog\n",
    "    for dialog in os.listdir(path):\n",
    "        dialog_path = os.path.join(path, dialog)\n",
    "            \n",
    "        # for each utterance (file)\n",
    "        for filename in os.listdir(dialog_path):\n",
    "            if filename.endswith(\".wav\") and filename[:-4] in filename_ls:  # only move the interested files\n",
    "                shutil.copy(os.path.join(dialog_path, filename), os.path.join(input_path, filename))"
   ]
  },
  {
   "cell_type": "markdown",
   "metadata": {},
   "source": [
    "Create test and train directory for input instances if not exist."
   ]
  },
  {
   "cell_type": "code",
   "execution_count": null,
   "metadata": {},
   "outputs": [],
   "source": [
    "for data_type in [\"train\", \"test\", \"dev\"]:\n",
    "    path = os.path.join(input_path, data_type)\n",
    "    if not os.path.exists(path):\n",
    "        os.makedirs(path)"
   ]
  },
  {
   "cell_type": "markdown",
   "metadata": {},
   "source": [
    "Moving files to its directory."
   ]
  },
  {
   "cell_type": "code",
   "execution_count": null,
   "metadata": {},
   "outputs": [],
   "source": [
    "for filename in filename_train:\n",
    "    shutil.move(os.path.join(input_path, filename + \".wav\"), os.path.join(input_path, \"train\", filename + \".wav\"))\n",
    "    \n",
    "for filename in filename_test:\n",
    "    shutil.move(os.path.join(input_path, filename + \".wav\"), os.path.join(input_path, \"test\", filename + \".wav\"))\n",
    "    \n",
    "for filename in filename_dev:\n",
    "    shutil.move(os.path.join(input_path, filename + \".wav\"), os.path.join(input_path, \"dev\", filename + \".wav\"))"
   ]
  },
  {
   "cell_type": "markdown",
   "metadata": {},
   "source": [
    "### 1.5. Getting the transcriptions of each utterance"
   ]
  },
  {
   "cell_type": "code",
   "execution_count": null,
   "metadata": {},
   "outputs": [],
   "source": [
    "transcript_dict = {}\n",
    "\n",
    "# for each session\n",
    "for session in range(1,6):\n",
    "    path = os.path.join(data_path, \"IEMOCAP\", \"Session\" + str(session), \"dialog\", \"transcriptions\")\n",
    "    \n",
    "    # for file in the session\n",
    "    for filename in os.listdir(path):\n",
    "        \n",
    "        # only interested in txt files\n",
    "        if filename.endswith(\".txt\"):\n",
    "            f = open(os.path.join(path, filename), \"r\")\n",
    "            for line in f.readlines():\n",
    "                if line.startswith(\"Ses\"):  # utterance name\n",
    "                    ls = line.strip(\"\\r\\n\").split()\n",
    "                    name = ls[0]\n",
    "                    transcript = \" \".join(ls[2:])\n",
    "                    transcript_dict[name] = transcript\n",
    "            f.close()"
   ]
  },
  {
   "cell_type": "markdown",
   "metadata": {},
   "source": [
    "### 1.6. Writing information of each utterance into csv file (5240 train instances, 1124 test instances, 1123 dev instances)"
   ]
  },
  {
   "cell_type": "code",
   "execution_count": null,
   "metadata": {},
   "outputs": [],
   "source": [
    "with open(os.path.join(data_path, \"label.csv\") , mode='w') as label_file:\n",
    "    \n",
    "    writer = csv.writer(label_file, delimiter=\",\")\n",
    "    \n",
    "    for filename in filename_ls:\n",
    "        session, label, dims = info_dict[filename]\n",
    "        transcript = transcript_dict[filename]\n",
    "        data_type = \"\"\n",
    "        if filename in filename_train:\n",
    "            data_type = \"train\"\n",
    "        elif filename in filename_test:\n",
    "            data_type = \"test\"\n",
    "        elif filename in filename_dev:\n",
    "            data_type = \"dev\"\n",
    "        writer.writerow([filename, session, label, dims, data_type, transcript])\n",
    "                \n",
    "    label_file.close()"
   ]
  },
  {
   "cell_type": "markdown",
   "metadata": {},
   "source": [
    "## 2. Feature Extraction with openSMILE"
   ]
  },
  {
   "cell_type": "markdown",
   "metadata": {},
   "source": [
    "File for feature extractions."
   ]
  },
  {
   "cell_type": "code",
   "execution_count": null,
   "metadata": {},
   "outputs": [],
   "source": [
    "%%file feature.py\n",
    "\n",
    "# Import the required modules\n",
    "import argparse\n",
    "import os\n",
    "from subprocess import call\n",
    "import csv\n",
    "import sys\n",
    "import numpy as np\n",
    "from time import gmtime, strftime, time\n",
    "\n",
    "# Global variables\n",
    "data_path = \"/work/peiyun/data\"\n",
    "\n",
    "# Get the ground_truth label number of the file\n",
    "def get_label(label_file, filename):\n",
    "    \n",
    "    with open(label_file, mode = \"r\") as f:\n",
    "        reader = csv.reader(f)\n",
    "        for row in reader:\n",
    "            name, session, label, dims, data_type, transcript = row\n",
    "            if name == filename:\n",
    "                return label\n",
    "\n",
    "# Check input and output directories\n",
    "def check_dirs(args):\n",
    "    \n",
    "    # Check input directory (if not exist -> error)\n",
    "    if not os.path.exists(os.path.join(data_path, args.input_dir)):\n",
    "        print \"Error: input directory not exist\"\n",
    "        return False\n",
    "    for data_type in [\"train\", \"test\", \"dev\"]:\n",
    "        path = os.path.join(data_path, args.input_dir, data_type)\n",
    "        if not (os.path.exists(path)):\n",
    "            print \"Error: input directory missing train or test directories\"\n",
    "            return False\n",
    "    \n",
    "    # Check output directory (if not exist -> create one)\n",
    "    if not os.path.exists(os.path.join(data_path, args.output_dir)):\n",
    "        os.makedirs(os.path.join(data_path, args.output_dir))\n",
    "    for data_type in [\"train\", \"test\", \"dev\"]:\n",
    "        path = os.path.join(data_path, args.output_dir, data_type)\n",
    "        if not os.path.exists(path):\n",
    "            os.makedirs(path)\n",
    "        config_path = os.path.join(path, args.config[:-5])\n",
    "        if not os.path.exists(config_path):\n",
    "            os.makedirs(config_path)\n",
    "    \n",
    "    return True\n",
    "\n",
    "# Function for extracting features with openSMILE (Return whether successed)\n",
    "def extract_features(args):\n",
    "    if not check_dirs(args):\n",
    "        return False   # failed to read inputs\n",
    "            \n",
    "    # Iterate over wav audio files in input directory\n",
    "    for data_type in [\"train\", \"test\", \"dev\"]:\n",
    "        path_in = os.path.join(data_path, args.input_dir, data_type)\n",
    "        \n",
    "        for filename in os.listdir(path_in):\n",
    "            \n",
    "            # Only interested in wav files\n",
    "            if filename.endswith(\".wav\"):\n",
    "                # in\n",
    "                file_in = os.path.join(path_in, filename)\n",
    "                config = os.path.join(data_path, \"config\", args.config)\n",
    "                \n",
    "                filename = filename[:-4]  # [:-4] for removing .wav\n",
    "                \n",
    "                # out\n",
    "                path_out = os.path.join(data_path, args.output_dir, data_type, args.config[:-5])\n",
    "                csv_out = os.path.join(path_out, filename + \"_\" + args.config[:-5] + \".csv\")\n",
    "                arff_out = os.path.join(path_out, filename + \"_\" + args.config[:-5] + \".arff\")  # [:-5] for removing .conf\n",
    "                label = get_label(os.path.join(data_path, args.label), filename)\n",
    "                \n",
    "                # use openSMILE\n",
    "                call([\"SMILExtract\", \"-l\", \"0\", \"-noconsoleoutput\", \"-I\", file_in, \n",
    "                      \"-C\", config, \"-D\", csv_out, \"-O\", arff_out, \"-instname\", filename, \"-label\", label])\n",
    "                \n",
    "    return True\n",
    "\n",
    "# Obtaining args from terminal\n",
    "def get_args():\n",
    "    \n",
    "    parser = argparse.ArgumentParser(description='Extract features for files in the directory using openSMILE')\n",
    "    \n",
    "    parser.add_argument(\"-i\",                   # optional argument (no \"-\" for positional)\n",
    "                        \"--input_dir\",   # name of the attribute (dest)\n",
    "                        action = \"store\",       # can be \"store\", \"store_const\", \"store_true\", etc.\n",
    "                        # nargs = N for associating N args with a single action\n",
    "                        # const = ... to hold constant values\n",
    "                        # default = ... to set default value\n",
    "                        type = str,             # check arg type\n",
    "                        # choice = [.., .., ..] # restrict set of values\n",
    "                        required = True,        # make an option required\n",
    "                        # metavar = \"XXX\" for changing display name\n",
    "                        help = \"The directory of input audio files (wav)\")\n",
    "    \n",
    "    parser.add_argument(\"-o\", \"--output_dir\", type = str, required = True, help = \"The directory of results\")\n",
    "    parser.add_argument(\"-c\", \"--config\", type = str, required = True, help = \"Configuration filename\")\n",
    "    parser.add_argument(\"-l\", \"--label\", type = str, required = True, help = \"Label filename\")\n",
    "    args = parser.parse_args()\n",
    "    \n",
    "    return args\n",
    "\n",
    "def main():\n",
    "    # Obtaining terminal args\n",
    "    args = get_args()\n",
    "    \n",
    "    start_time = time()\n",
    "    \n",
    "    # Extracting features according to args\n",
    "    if not extract_features(args):\n",
    "        print \"Failed to extract features\"\n",
    "    else:\n",
    "        end_time = time()\n",
    "        print(\"Time taken for extracting features:\", strftime(\"%H:%M:%S\", gmtime(end_time - start_time)))\n",
    "        print \"Successfully extracted features\"\n",
    "\n",
    "# If running the file directly\n",
    "if __name__ == \"__main__\":\n",
    "    main()"
   ]
  },
  {
   "cell_type": "markdown",
   "metadata": {},
   "source": [
    "Running script for extracting features. "
   ]
  },
  {
   "cell_type": "code",
   "execution_count": null,
   "metadata": {},
   "outputs": [],
   "source": [
    "%%!\n",
    "python feature.py -i \"input\" -o \"output\" -c \"IS09_emotion.conf\" -l \"label.csv\""
   ]
  },
  {
   "cell_type": "code",
   "execution_count": null,
   "metadata": {},
   "outputs": [],
   "source": [
    "%%!\n",
    "python feature.py -i \"input\" -o \"output\" -c \"IS10_paraling.conf\" -l \"label.csv\""
   ]
  }
 ],
 "metadata": {
  "kernelspec": {
   "display_name": "Python 2",
   "language": "python",
   "name": "python2"
  },
  "language_info": {
   "codemirror_mode": {
    "name": "ipython",
    "version": 2
   },
   "file_extension": ".py",
   "mimetype": "text/x-python",
   "name": "python",
   "nbconvert_exporter": "python",
   "pygments_lexer": "ipython2",
   "version": "2.7.15"
  }
 },
 "nbformat": 4,
 "nbformat_minor": 2
}
